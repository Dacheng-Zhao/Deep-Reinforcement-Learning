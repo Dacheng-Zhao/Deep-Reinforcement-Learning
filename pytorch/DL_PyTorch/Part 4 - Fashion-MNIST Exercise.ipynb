{
 "cells": [
  {
   "cell_type": "markdown",
   "metadata": {},
   "source": [
    "# Classifying Fashion-MNIST\n",
    "\n",
    "Now it's your turn to build and train a neural network. You'll be using the [Fashion-MNIST dataset](https://github.com/zalandoresearch/fashion-mnist), a drop-in replacement for the MNIST dataset. MNIST is actually quite trivial with neural networks where you can easily achieve better than 97% accuracy. Fashion-MNIST is a set of 28x28 greyscale images of clothes. It's more complex than MNIST, so it's a better representation of the actual performance of your network, and a better representation of datasets you'll use in the real world.\n",
    "\n",
    "<img src='assets/fashion-mnist-sprite.png' width=500px>\n",
    "\n",
    "In this notebook, you'll build your own neural network. For the most part, you could just copy and paste the code from Part 3, but you wouldn't be learning. It's important for you to write the code yourself and get it to work. Feel free to consult the previous notebook though as you work through this.\n",
    "\n",
    "First off, let's load the dataset through torchvision."
   ]
  },
  {
   "cell_type": "code",
   "execution_count": 1,
   "metadata": {},
   "outputs": [
    {
     "name": "stdout",
     "output_type": "stream",
     "text": [
      "Downloading http://fashion-mnist.s3-website.eu-central-1.amazonaws.com/train-images-idx3-ubyte.gz\n",
      "Downloading http://fashion-mnist.s3-website.eu-central-1.amazonaws.com/train-labels-idx1-ubyte.gz\n",
      "Downloading http://fashion-mnist.s3-website.eu-central-1.amazonaws.com/t10k-images-idx3-ubyte.gz\n",
      "Downloading http://fashion-mnist.s3-website.eu-central-1.amazonaws.com/t10k-labels-idx1-ubyte.gz\n",
      "Processing...\n",
      "Done!\n"
     ]
    }
   ],
   "source": [
    "import torch\n",
    "from torchvision import datasets, transforms\n",
    "import helper\n",
    "\n",
    "# Define a transform to normalize the data\n",
    "transform = transforms.Compose([transforms.ToTensor(),\n",
    "                                transforms.Normalize((0.5, 0.5, 0.5), (0.5, 0.5, 0.5))])\n",
    "# Download and load the training data\n",
    "trainset = datasets.FashionMNIST('F_MNIST_data/', download=True, train=True, transform=transform)\n",
    "trainloader = torch.utils.data.DataLoader(trainset, batch_size=64, shuffle=True)\n",
    "\n",
    "# Download and load the test data\n",
    "testset = datasets.FashionMNIST('F_MNIST_data/', download=True, train=False, transform=transform)\n",
    "testloader = torch.utils.data.DataLoader(testset, batch_size=64, shuffle=True)"
   ]
  },
  {
   "cell_type": "markdown",
   "metadata": {},
   "source": [
    "Here we can see one of the images."
   ]
  },
  {
   "cell_type": "code",
   "execution_count": null,
   "metadata": {},
   "outputs": [],
   "source": [
    "image, label = next(iter(trainloader))\n",
    "helper.imshow(image[0,:]);"
   ]
  },
  {
   "cell_type": "markdown",
   "metadata": {},
   "source": [
    "With the data loaded, it's time to import the necessary packages."
   ]
  },
  {
   "cell_type": "code",
   "execution_count": 5,
   "metadata": {},
   "outputs": [],
   "source": [
    "%matplotlib inline\n",
    "%config InlineBackend.figure_format = 'retina'\n",
    "\n",
    "import matplotlib.pyplot as plt\n",
    "import numpy as np\n",
    "import time\n",
    "\n",
    "import torch\n",
    "from torch import nn\n",
    "from torch import optim\n",
    "import torch.nn.functional as F\n",
    "from torchvision import datasets, transforms\n",
    "\n",
    "import helper"
   ]
  },
  {
   "cell_type": "markdown",
   "metadata": {},
   "source": [
    "## Building the network\n",
    "\n",
    "Here you should define your network. As with MNIST, each image is 28x28 which is a total of 784 pixels, and there are 10 classes. You should include at least one hidden layer. We suggest you use ReLU activations for the layers and to return the logits from the forward pass. It's up to you how many layers you add and the size of those layers."
   ]
  },
  {
   "cell_type": "code",
   "execution_count": 8,
   "metadata": {},
   "outputs": [],
   "source": [
    "class Network(nn.Module):\n",
    "    def __init__(self, input_size, output_size, hidden_layers, drop_p = 0.5):\n",
    "        super().__init__()\n",
    "        self.hidden_layers = nn.ModuleList([nn.Linear(input_size, hidden_layers[0])])\n",
    "        layer_sizes = zip(hidden_layers[:-1], hidden_layers[1:])\n",
    "        self.hidden_layers.extend([nn.Linear(h1, h2) for h1, h2 in layer_sizes])\n",
    "        self.output = nn.Linear(hidden_layers[-1], output_size)\n",
    "        self.dropout = nn.Dropout(p=drop_p)\n",
    "        \n",
    "    def forward(self, x):\n",
    "        for linear in self.hidden_layers:\n",
    "            x = F.relu(linear(x))\n",
    "            x = self.dropout(x)\n",
    "            \n",
    "        x = self.output(x)\n",
    "        \n",
    "        return F.log_softmax(x, dim=1)"
   ]
  },
  {
   "cell_type": "markdown",
   "metadata": {},
   "source": [
    "# Train the network\n",
    "\n",
    "Now you should create your network and train it. First you'll want to define [the criterion](http://pytorch.org/docs/master/nn.html#loss-functions) ( something like `nn.CrossEntropyLoss`) and [the optimizer](http://pytorch.org/docs/master/optim.html) (typically `optim.SGD` or `optim.Adam`).\n",
    "\n",
    "Then write the training code. Remember the training pass is a fairly straightforward process:\n",
    "\n",
    "* Make a forward pass through the network to get the logits \n",
    "* Use the logits to calculate the loss\n",
    "* Perform a backward pass through the network with `loss.backward()` to calculate the gradients\n",
    "* Take a step with the optimizer to update the weights\n",
    "\n",
    "By adjusting the hyperparameters (hidden units, learning rate, etc), you should be able to get the training loss below 0.4."
   ]
  },
  {
   "cell_type": "code",
   "execution_count": 10,
   "metadata": {},
   "outputs": [],
   "source": [
    "model = Network(784, 10, [516, 256], drop_p=0.5)\n",
    "criterion = nn.NLLLoss()\n",
    "optimizer = optim.Adam(model.parameters(), lr=0.001)\n"
   ]
  },
  {
   "cell_type": "code",
   "execution_count": 42,
   "metadata": {},
   "outputs": [],
   "source": [
    "# validation pass\n",
    "def validation(model, testloader, criterion):\n",
    "    test_loss = 0\n",
    "    accuracy = 0\n",
    "    for images, labels in testloader:\n",
    "        images.resize_(images.shape[0], 784)\n",
    "        output = model.forward(images)\n",
    "        test_loss += criterion(output, labels).item()\n",
    "        ps = torch.exp(output)\n",
    "        equality = (labels.data == ps.max(dim=1)[1])\n",
    "        accuracy += equality.type(torch.FloatTensor).mean()\n",
    "    return test_loss, accuracy\n",
    "\n",
    "# test_loss = 0\n",
    "# images, labels = next(iter(testloader))\n",
    "# images.resize_(images.shape[0], 784)\n",
    "# output = model.forward(images)\n",
    "# test_loss += criterion(output, labels).item()\n",
    "# ps = torch.exp(output)\n",
    "# equality = (labels.data == ps.max(dim=1)[1])\n",
    "# accuracy = equality.type(torch.FloatTensor).mean()"
   ]
  },
  {
   "cell_type": "code",
   "execution_count": 45,
   "metadata": {},
   "outputs": [
    {
     "name": "stdout",
     "output_type": "stream",
     "text": [
      "Epoch: 1/2..  Training Loss: 1.365..  Test Loss: 0.899..  Test Accuracy: 0.659\n",
      "Epoch: 1/2..  Training Loss: 0.805..  Test Loss: 0.781..  Test Accuracy: 0.705\n",
      "Epoch: 1/2..  Training Loss: 0.705..  Test Loss: 0.710..  Test Accuracy: 0.740\n",
      "Epoch: 1/2..  Training Loss: 0.649..  Test Loss: 0.688..  Test Accuracy: 0.746\n",
      "Epoch: 1/2..  Training Loss: 0.656..  Test Loss: 0.637..  Test Accuracy: 0.767\n",
      "Epoch: 1/2..  Training Loss: 0.619..  Test Loss: 0.672..  Test Accuracy: 0.761\n",
      "Epoch: 1/2..  Training Loss: 0.602..  Test Loss: 0.625..  Test Accuracy: 0.779\n",
      "Epoch: 1/2..  Training Loss: 0.575..  Test Loss: 0.601..  Test Accuracy: 0.782\n",
      "Epoch: 1/2..  Training Loss: 0.557..  Test Loss: 0.577..  Test Accuracy: 0.791\n",
      "Epoch: 1/2..  Training Loss: 0.599..  Test Loss: 0.601..  Test Accuracy: 0.782\n",
      "Epoch: 1/2..  Training Loss: 0.601..  Test Loss: 0.566..  Test Accuracy: 0.799\n",
      "Epoch: 1/2..  Training Loss: 0.577..  Test Loss: 0.570..  Test Accuracy: 0.788\n",
      "Epoch: 1/2..  Training Loss: 0.572..  Test Loss: 0.558..  Test Accuracy: 0.799\n",
      "Epoch: 1/2..  Training Loss: 0.522..  Test Loss: 0.570..  Test Accuracy: 0.795\n",
      "Epoch: 1/2..  Training Loss: 0.554..  Test Loss: 0.546..  Test Accuracy: 0.803\n",
      "Epoch: 1/2..  Training Loss: 0.545..  Test Loss: 0.549..  Test Accuracy: 0.801\n",
      "Epoch: 1/2..  Training Loss: 0.532..  Test Loss: 0.562..  Test Accuracy: 0.799\n",
      "Epoch: 1/2..  Training Loss: 0.539..  Test Loss: 0.544..  Test Accuracy: 0.803\n",
      "Epoch: 1/2..  Training Loss: 0.525..  Test Loss: 0.539..  Test Accuracy: 0.810\n",
      "Epoch: 1/2..  Training Loss: 0.530..  Test Loss: 0.539..  Test Accuracy: 0.805\n",
      "Epoch: 1/2..  Training Loss: 0.482..  Test Loss: 0.530..  Test Accuracy: 0.810\n",
      "Epoch: 1/2..  Training Loss: 0.525..  Test Loss: 0.537..  Test Accuracy: 0.806\n",
      "Epoch: 1/2..  Training Loss: 0.515..  Test Loss: 0.519..  Test Accuracy: 0.813\n",
      "Epoch: 2/2..  Training Loss: 0.494..  Test Loss: 0.573..  Test Accuracy: 0.795\n",
      "Epoch: 2/2..  Training Loss: 0.493..  Test Loss: 0.534..  Test Accuracy: 0.805\n",
      "Epoch: 2/2..  Training Loss: 0.508..  Test Loss: 0.517..  Test Accuracy: 0.813\n",
      "Epoch: 2/2..  Training Loss: 0.490..  Test Loss: 0.516..  Test Accuracy: 0.811\n",
      "Epoch: 2/2..  Training Loss: 0.489..  Test Loss: 0.515..  Test Accuracy: 0.813\n",
      "Epoch: 2/2..  Training Loss: 0.503..  Test Loss: 0.545..  Test Accuracy: 0.806\n",
      "Epoch: 2/2..  Training Loss: 0.469..  Test Loss: 0.525..  Test Accuracy: 0.808\n",
      "Epoch: 2/2..  Training Loss: 0.501..  Test Loss: 0.535..  Test Accuracy: 0.811\n",
      "Epoch: 2/2..  Training Loss: 0.512..  Test Loss: 0.508..  Test Accuracy: 0.816\n",
      "Epoch: 2/2..  Training Loss: 0.483..  Test Loss: 0.519..  Test Accuracy: 0.813\n",
      "Epoch: 2/2..  Training Loss: 0.486..  Test Loss: 0.507..  Test Accuracy: 0.820\n",
      "Epoch: 2/2..  Training Loss: 0.474..  Test Loss: 0.522..  Test Accuracy: 0.811\n",
      "Epoch: 2/2..  Training Loss: 0.497..  Test Loss: 0.523..  Test Accuracy: 0.810\n",
      "Epoch: 2/2..  Training Loss: 0.489..  Test Loss: 0.531..  Test Accuracy: 0.809\n",
      "Epoch: 2/2..  Training Loss: 0.465..  Test Loss: 0.509..  Test Accuracy: 0.820\n",
      "Epoch: 2/2..  Training Loss: 0.467..  Test Loss: 0.496..  Test Accuracy: 0.819\n",
      "Epoch: 2/2..  Training Loss: 0.505..  Test Loss: 0.507..  Test Accuracy: 0.820\n",
      "Epoch: 2/2..  Training Loss: 0.469..  Test Loss: 0.519..  Test Accuracy: 0.817\n",
      "Epoch: 2/2..  Training Loss: 0.459..  Test Loss: 0.527..  Test Accuracy: 0.809\n",
      "Epoch: 2/2..  Training Loss: 0.484..  Test Loss: 0.521..  Test Accuracy: 0.807\n",
      "Epoch: 2/2..  Training Loss: 0.467..  Test Loss: 0.496..  Test Accuracy: 0.826\n",
      "Epoch: 2/2..  Training Loss: 0.507..  Test Loss: 0.509..  Test Accuracy: 0.817\n",
      "Epoch: 2/2..  Training Loss: 0.455..  Test Loss: 0.518..  Test Accuracy: 0.818\n"
     ]
    }
   ],
   "source": [
    "# Train the network here\n",
    "epochs = 2\n",
    "steps = 0\n",
    "running_loss = 0\n",
    "print_every = 40\n",
    "for e in range(epochs):\n",
    "    for images, labels in trainloader:\n",
    "        steps += 1\n",
    "        images.resize_(images.size()[0], 784)\n",
    "        optimizer.zero_grad()\n",
    "        output = model.forward(images)\n",
    "        loss = criterion(output, labels)\n",
    "        loss.backward()\n",
    "        optimizer.step()\n",
    "        \n",
    "        running_loss += loss.item()\n",
    "        \n",
    "        if steps % print_every == 0:\n",
    "            with torch.no_grad():\n",
    "                test_loss, accuracy = validation(model, testloader, criterion)\n",
    "                \n",
    "            print(\"Epoch: {}/{}.. \".format(e+1, epochs),\n",
    "                  \"Training Loss: {:.3f}.. \".format(running_loss/print_every),\n",
    "                  \"Test Loss: {:.3f}.. \".format(test_loss/len(testloader)),\n",
    "                  \"Test Accuracy: {:.3f}\".format(accuracy/len(testloader)))\n",
    "            \n",
    "            running_loss = 0\n",
    "            "
   ]
  },
  {
   "cell_type": "code",
   "execution_count": 47,
   "metadata": {},
   "outputs": [
    {
     "data": {
      "image/png": "[encoded data removed]",
      "text/plain": [
       "<Figure size 432x648 with 2 Axes>"
      ]
     },
     "metadata": {
      "image/png": {
       "height": 206,
       "width": 423
      },
      "needs_background": "light"
     },
     "output_type": "display_data"
    }
   ],
   "source": [
    "# Test out your network!\n",
    "\n",
    "dataiter = iter(testloader)\n",
    "images, labels = dataiter.next()\n",
    "img = images[0]\n",
    "# Convert 2D image to 1D vector\n",
    "img = img.resize_(1, 784)\n",
    "\n",
    "# Calculate the class probabilities (softmax) for img\n",
    "output = model.forward(img)\n",
    "ps = torch.exp(output)\n",
    "\n",
    "# Plot the image and probabilities\n",
    "helper.view_classify(img.resize_(1, 28, 28), ps, version='Fashion')"
   ]
  },
  {
   "cell_type": "markdown",
   "metadata": {},
   "source": [
    "Now that your network is trained, you'll want to save it to disk so you can load it later instead of training it again. Obviously, it's impractical to train a network every time you need one. In practice, you'll train it once, save the model, then reload it for further training or making predictions. In the next part, I'll show you how to save and load trained models."
   ]
  }
 ],
 "metadata": {
  "kernelspec": {
   "display_name": "Python 3",
   "language": "python",
   "name": "python3"
  },
  "language_info": {
   "codemirror_mode": {
    "name": "ipython",
    "version": 3
   },
   "file_extension": ".py",
   "mimetype": "text/x-python",
   "name": "python",
   "nbconvert_exporter": "python",
   "pygments_lexer": "ipython3",
   "version": "3.6.6"
  }
 },
 "nbformat": 4,
 "nbformat_minor": 2
}
